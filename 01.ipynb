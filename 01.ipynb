{
  "nbformat": 4,
  "nbformat_minor": 0,
  "metadata": {
    "colab": {
      "provenance": [],
      "authorship_tag": "ABX9TyMy7vweV+HG6TopnG7Rpkpt",
      "include_colab_link": true
    },
    "kernelspec": {
      "name": "python3",
      "display_name": "Python 3"
    },
    "language_info": {
      "name": "python"
    }
  },
  "cells": [
    {
      "cell_type": "markdown",
      "metadata": {
        "id": "view-in-github",
        "colab_type": "text"
      },
      "source": [
        "<a href=\"https://colab.research.google.com/github/BrunoGaia1/Bruno/blob/main/01.ipynb\" target=\"_parent\"><img src=\"https://colab.research.google.com/assets/colab-badge.svg\" alt=\"Open In Colab\"/></a>"
      ]
    },
    {
      "cell_type": "code",
      "source": [
        "#Iportantes tipo de variáveis\n",
        "a = 2751\n",
        "print(type(a))\n",
        "b = 50\n",
        "print(type(b))\n",
        "c = 4000\n",
        "print(type(c))\n",
        "d = a - b + c\n",
        "print(type(d))\n",
        "print(d)\n",
        "\n"
      ],
      "metadata": {
        "colab": {
          "base_uri": "https://localhost:8080/"
        },
        "id": "4p37JOgI-5m7",
        "outputId": "1246287c-acff-49ce-d911-31f0e614bdae"
      },
      "execution_count": null,
      "outputs": [
        {
          "output_type": "stream",
          "name": "stdout",
          "text": [
            "<class 'int'>\n",
            "<class 'int'>\n",
            "<class 'int'>\n",
            "<class 'int'>\n",
            "6701\n"
          ]
        }
      ]
    },
    {
      "cell_type": "markdown",
      "source": [
        "Lembrar que sempre que quiser calcular é preciso informar que estou lidando com n° int ou float"
      ],
      "metadata": {
        "id": "y8Gk55B7JEyY"
      }
    },
    {
      "cell_type": "code",
      "source": [
        "num = int(input(\"Digite um número: \"))\n",
        "print(type(num))\n",
        "quoc = num / 2\n",
        "resto = num % 2\n",
        "print(quoc)\n",
        "print(resto)\n"
      ],
      "metadata": {
        "colab": {
          "base_uri": "https://localhost:8080/"
        },
        "id": "IuamS9fuJYHq",
        "outputId": "0ad5f76a-bc46-4c76-e232-83032d354aaa"
      },
      "execution_count": null,
      "outputs": [
        {
          "output_type": "stream",
          "name": "stdout",
          "text": [
            "Digite um número: 9\n",
            "<class 'int'>\n",
            "4.5\n",
            "1\n"
          ]
        }
      ]
    },
    {
      "cell_type": "code",
      "source": [
        "v1 = float(input(\"Altura: \"))\n",
        "v2 = float(input(\"Base: \"))\n",
        "Area=(v1 * v2) / 2\n",
        "print(Area)"
      ],
      "metadata": {
        "colab": {
          "base_uri": "https://localhost:8080/"
        },
        "id": "N4JWCONsLZ1a",
        "outputId": "53e7630d-074b-4985-fc52-94807db0a90c"
      },
      "execution_count": null,
      "outputs": [
        {
          "output_type": "stream",
          "name": "stdout",
          "text": [
            "Altura: 50\n",
            "Base: 50\n",
            "1250.0\n"
          ]
        }
      ]
    },
    {
      "cell_type": "code",
      "source": [
        "p=float (input(\"Digite valor polegada \"))\n",
        "mm = p * 25.4\n",
        "print(\"Valor Pol em mm\", mm)"
      ],
      "metadata": {
        "colab": {
          "base_uri": "https://localhost:8080/"
        },
        "id": "ogVtcITj-p6g",
        "outputId": "be27869b-7fe8-4d87-ce2a-4d4a0b20413c"
      },
      "execution_count": null,
      "outputs": [
        {
          "output_type": "stream",
          "name": "stdout",
          "text": [
            "Digite valor polegada10\n",
            "Valor Pol em mm 254.0\n"
          ]
        }
      ]
    },
    {
      "cell_type": "code",
      "source": [
        "V = float(input(\"Raio de esfera \"))\n",
        "PI = 3.14159265359\n",
        "r = (4*PI*V*V*V)/3\n",
        "print(\"Volume da esfera \", r)\n",
        "#"
      ],
      "metadata": {
        "colab": {
          "base_uri": "https://localhost:8080/"
        },
        "id": "Aj1aXiSr_rQb",
        "outputId": "4db63104-97ae-46c6-b3c2-29297eb209d5"
      },
      "execution_count": null,
      "outputs": [
        {
          "output_type": "stream",
          "name": "stdout",
          "text": [
            "Raio de esfera 10\n",
            "Volume da esfera  4188.790204786666\n"
          ]
        }
      ]
    },
    {
      "cell_type": "code",
      "source": [
        "v = float(input(\"Angulo em Graus \"))\n",
        "PI = 3.14159265359\n",
        "r = (v*PI)/180\n",
        "print(\"Angulo em Radianos \", r)\n",
        "#"
      ],
      "metadata": {
        "colab": {
          "base_uri": "https://localhost:8080/"
        },
        "id": "3n5WJUtkGHJC",
        "outputId": "c82793dd-6e03-4b11-f828-ddd658d9d0bb"
      },
      "execution_count": null,
      "outputs": [
        {
          "output_type": "stream",
          "name": "stdout",
          "text": [
            "Angulo em Graus 100\n",
            "Angulo em Radianos  1.7453292519944446\n"
          ]
        }
      ]
    },
    {
      "cell_type": "code",
      "source": [
        "v = float(input(\"Radiano para Grau \"))\n",
        "PI = 3.14159265359\n",
        "r = (v*180)/PI\n",
        "print(\"Angulo em Graus \", r)\n",
        "#"
      ],
      "metadata": {
        "colab": {
          "base_uri": "https://localhost:8080/"
        },
        "id": "ciJHdce2GuYw",
        "outputId": "25391729-5f4f-42c9-93aa-dc9f1bf7f1a3"
      },
      "execution_count": null,
      "outputs": [
        {
          "output_type": "stream",
          "name": "stdout",
          "text": [
            "Radiano para Grau 1.7453292519944446\n",
            "Angulo em Graus  100.0\n"
          ]
        }
      ]
    },
    {
      "cell_type": "code",
      "source": [
        "V = float(input(\"Angulo em Radiano \"))\n",
        "PI = 3.14159265359\n",
        "r = (V*180)/PI\n",
        "z = r/0.9\n",
        "print(\"Radiano em Grado \", z)\n",
        "#"
      ],
      "metadata": {
        "colab": {
          "base_uri": "https://localhost:8080/"
        },
        "id": "KSnW5gkXHyJc",
        "outputId": "44373784-24a4-4728-ee0b-4c9602ee8f04"
      },
      "execution_count": null,
      "outputs": [
        {
          "output_type": "stream",
          "name": "stdout",
          "text": [
            "Angulo em Radiano 10\n",
            "Radiano em Grado  636.6197723675394\n"
          ]
        }
      ]
    },
    {
      "cell_type": "code",
      "source": [
        "v = float(input(\"Angulo em Radiano \"))\n",
        "PI = 3.14159265359\n",
        "r = v*200/PI\n",
        "print(\"Radiano em Grado \", r)\n",
        "#"
      ],
      "metadata": {
        "colab": {
          "base_uri": "https://localhost:8080/"
        },
        "id": "N1woZoZHKvPc",
        "outputId": "4281d512-e991-4f54-873c-6d0c568a3adb"
      },
      "execution_count": null,
      "outputs": [
        {
          "output_type": "stream",
          "name": "stdout",
          "text": [
            "Angulo em Radiano 10\n",
            "Radiano em Grado  636.6197723675394\n"
          ]
        }
      ]
    },
    {
      "cell_type": "code",
      "source": [
        "numero = int(input(\"Digite Numero Inteiro \"))\n",
        "if numero % 2 == 0:\n",
        "    print(\"O Numero é Par\")\n",
        "else:\n",
        "    print(\"O Numero é Ímpar\")"
      ],
      "metadata": {
        "id": "ShB8TlKGBzV5",
        "colab": {
          "base_uri": "https://localhost:8080/"
        },
        "outputId": "b77734a0-f696-44ab-8ca3-7fbb681633c3"
      },
      "execution_count": 6,
      "outputs": [
        {
          "output_type": "stream",
          "name": "stdout",
          "text": [
            "Digite Numero Inteiro 5550123\n",
            "O Numero é Ímpar\n"
          ]
        }
      ]
    },
    {
      "cell_type": "code",
      "source": [
        "import math\n",
        "numero = float(input(\"Digite um Número \"))\n",
        "if numero >= 0:\n",
        "    raiz_quadrada = math.sqrt(numero)\n",
        "    print(f\"A raiz quadrada de {numero} é {raiz_quadrada}\")\n",
        "else:\n",
        "    print (\"Nao existe raiz real para este número!\")"
      ],
      "metadata": {
        "colab": {
          "base_uri": "https://localhost:8080/"
        },
        "id": "HjwPQQKGNIxK",
        "outputId": "38d1bf94-48e5-40d0-b640-f1d96d5a0996"
      },
      "execution_count": 22,
      "outputs": [
        {
          "output_type": "stream",
          "name": "stdout",
          "text": [
            "Digite um Número -10\n",
            "Nao existe raiz real para este número!\n"
          ]
        }
      ]
    },
    {
      "cell_type": "code",
      "source": [
        "comprimento = float(input(\"Digite o comprimento da camiseta em centímetros: \"))\n",
        "largura = float(input(\"Digite a largura da camiseta e centímetros: \"))\n",
        "\n",
        "if comprimento <= 60 and largura <= 45:\n",
        "    tamanho = \"PP\"\n",
        "elif comprimento <= 65 and largura <= 48:\n",
        "    tamanho  = \"P\"\n",
        "elif comprimento <= 70 and largura <= 51:\n",
        "    tamanho  = \"M\"\n",
        "elif comprimento <= 75 and largura <= 54:\n",
        "    tamanho = \"G\"\n",
        "elif comprimento <= 80 and largura <= 57:\n",
        "    tamanho = \"GG\"\n",
        "else:\n",
        "    tamanho  = \"XGG\"\n",
        "\n",
        "print(f\"O tamanho da comiseta é {tamanho}.\")"
      ],
      "metadata": {
        "colab": {
          "base_uri": "https://localhost:8080/"
        },
        "id": "DuBB7er-QKSE",
        "outputId": "3628865a-252f-4b76-f72d-40860b53a41f"
      },
      "execution_count": 32,
      "outputs": [
        {
          "output_type": "stream",
          "name": "stdout",
          "text": [
            "Digite o comprimento da camiseta em centímetros: 800\n",
            "Digite a largura da camiseta e centímetros: 800\n",
            "O tamanho da comiseta é XGG.\n"
          ]
        }
      ]
    }
  ]
}