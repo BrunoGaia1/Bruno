{
  "nbformat": 4,
  "nbformat_minor": 0,
  "metadata": {
    "colab": {
      "provenance": [],
      "authorship_tag": "ABX9TyPcK/XsOJFzmSf02FUSHuMg",
      "include_colab_link": true
    },
    "kernelspec": {
      "name": "python3",
      "display_name": "Python 3"
    },
    "language_info": {
      "name": "python"
    }
  },
  "cells": [
    {
      "cell_type": "markdown",
      "metadata": {
        "id": "view-in-github",
        "colab_type": "text"
      },
      "source": [
        "<a href=\"https://colab.research.google.com/github/BrunoGaia1/Bruno/blob/main/01.ipynb\" target=\"_parent\"><img src=\"https://colab.research.google.com/assets/colab-badge.svg\" alt=\"Open In Colab\"/></a>"
      ]
    },
    {
      "cell_type": "code",
      "source": [
        "#Iportantes tipo de variáveis\n",
        "a = 2751\n",
        "print(type(a))\n",
        "b = 50\n",
        "print(type(b))\n",
        "c = 4000\n",
        "print(type(c))\n",
        "d = a - b + c\n",
        "print(type(d))\n",
        "print(d)\n",
        "\n"
      ],
      "metadata": {
        "colab": {
          "base_uri": "https://localhost:8080/"
        },
        "id": "4p37JOgI-5m7",
        "outputId": "1246287c-acff-49ce-d911-31f0e614bdae"
      },
      "execution_count": 24,
      "outputs": [
        {
          "output_type": "stream",
          "name": "stdout",
          "text": [
            "<class 'int'>\n",
            "<class 'int'>\n",
            "<class 'int'>\n",
            "<class 'int'>\n",
            "6701\n"
          ]
        }
      ]
    },
    {
      "cell_type": "markdown",
      "source": [
        "Lembrar que sempre que quiser calcular é preciso informar que estou lidando com n° int ou float"
      ],
      "metadata": {
        "id": "y8Gk55B7JEyY"
      }
    },
    {
      "cell_type": "code",
      "source": [
        "num = int(input(\"Digite um número: \"))\n",
        "print(type(num))\n",
        "quoc = num / 2\n",
        "resto = num % 2\n",
        "print(quoc)\n",
        "print(resto)\n"
      ],
      "metadata": {
        "colab": {
          "base_uri": "https://localhost:8080/"
        },
        "id": "IuamS9fuJYHq",
        "outputId": "0ad5f76a-bc46-4c76-e232-83032d354aaa"
      },
      "execution_count": 28,
      "outputs": [
        {
          "output_type": "stream",
          "name": "stdout",
          "text": [
            "Digite um número: 9\n",
            "<class 'int'>\n",
            "4.5\n",
            "1\n"
          ]
        }
      ]
    },
    {
      "cell_type": "code",
      "source": [
        "v1 = float(input(\"Altura: \"))\n",
        "v2 = float(input(\"Base: \"))\n",
        "Area=(v1 * v2) / 2\n",
        "print(Area)"
      ],
      "metadata": {
        "colab": {
          "base_uri": "https://localhost:8080/"
        },
        "id": "N4JWCONsLZ1a",
        "outputId": "7833d4cf-71f2-4c47-9e8e-ac3286981114"
      },
      "execution_count": 40,
      "outputs": [
        {
          "output_type": "stream",
          "name": "stdout",
          "text": [
            "Altura: 50\n",
            "Base: 50\n",
            "1250.0\n"
          ]
        }
      ]
    }
  ]
}