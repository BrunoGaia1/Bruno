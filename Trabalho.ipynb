{
  "nbformat": 4,
  "nbformat_minor": 0,
  "metadata": {
    "colab": {
      "provenance": [],
      "authorship_tag": "ABX9TyPdFNv63A37FcHe5xLvOrHs",
      "include_colab_link": true
    },
    "kernelspec": {
      "name": "python3",
      "display_name": "Python 3"
    },
    "language_info": {
      "name": "python"
    }
  },
  "cells": [
    {
      "cell_type": "markdown",
      "metadata": {
        "id": "view-in-github",
        "colab_type": "text"
      },
      "source": [
        "<a href=\"https://colab.research.google.com/github/BrunoGaia1/Bruno/blob/main/Trabalho.ipynb\" target=\"_parent\"><img src=\"https://colab.research.google.com/assets/colab-badge.svg\" alt=\"Open In Colab\"/></a>"
      ]
    },
    {
      "cell_type": "code",
      "execution_count": null,
      "metadata": {
        "id": "0Kqbe-0glpX3"
      },
      "outputs": [],
      "source": [
        "import pandas as pd\n",
        "from google.colab import auth\n",
        "import gspread\n",
        "from google.auth import default\n",
        "\n",
        "auth.authenticate_user()\n",
        "creds, _ = default()\n",
        "gc = gspread.authorize(creds)\n",
        "\n",
        "planilha = gc.open('trabalho').sheet1\n",
        "dados = planilha.get_all_values()\n",
        "tabela = pd.DataFrame(dados[1:], columns=dados[0])\n",
        "\n",
        "def pesquisar(tabela):\n",
        "    coluna = input(\"Digite o nome da coluna para pesquisar: \")\n",
        "    termo = input(\"Digite o termo de pesquisa na coluna \")\n",
        "\n",
        "    if coluna not in tabela.columns:\n",
        "        print(\"Coluna não encontrada! \")\n",
        "        return\n",
        "\n",
        "    resultados = tabela[tabela[coluna].str.contains(termo, na=False, case=False)]\n",
        "    print(\"Resultados encontrados: \")\n",
        "    print(resultados)\n",
        "\n",
        "while True:\n",
        "    print(\"\\nOpções:\")\n",
        "    print(\"\\n1. Pesquisar manutenções\\n2. Sair\")\n",
        "    escolha = input(\"Escolha uma opção: \")\n",
        "\n",
        "    if escolha == \"1\":\n",
        "        pesquisar(tabela)\n",
        "    elif escolha == \"2\":\n",
        "        print(\"Saindo...\")\n",
        "        break\n",
        "    else:\n",
        "        print(\"Opção inválida!\")\n"
      ]
    }
  ]
}