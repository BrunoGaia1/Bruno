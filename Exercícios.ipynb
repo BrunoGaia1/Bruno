{
  "nbformat": 4,
  "nbformat_minor": 0,
  "metadata": {
    "colab": {
      "provenance": [],
      "authorship_tag": "ABX9TyNXoZCH6hGyYiG4SLWt7cip",
      "include_colab_link": true
    },
    "kernelspec": {
      "name": "python3",
      "display_name": "Python 3"
    },
    "language_info": {
      "name": "python"
    }
  },
  "cells": [
    {
      "cell_type": "markdown",
      "metadata": {
        "id": "view-in-github",
        "colab_type": "text"
      },
      "source": [
        "<a href=\"https://colab.research.google.com/github/BrunoGaia1/Bruno/blob/main/Exerc%C3%ADcios.ipynb\" target=\"_parent\"><img src=\"https://colab.research.google.com/assets/colab-badge.svg\" alt=\"Open In Colab\"/></a>"
      ]
    },
    {
      "cell_type": "markdown",
      "source": [
        "Exercício 1"
      ],
      "metadata": {
        "id": "s78QyD6pQEcc"
      }
    },
    {
      "cell_type": "code",
      "execution_count": 22,
      "metadata": {
        "colab": {
          "base_uri": "https://localhost:8080/"
        },
        "id": "lFYQCEEkEhC4",
        "outputId": "4df0f803-f6b6-49ac-f77f-322d904317c9"
      },
      "outputs": [
        {
          "output_type": "stream",
          "name": "stdout",
          "text": [
            "Digite um número: 30\n",
            "Múltiplo de 3\n"
          ]
        }
      ],
      "source": [
        "numero = int(input(\"Digite um número: \"))\n",
        "r = numero % 3\n",
        "if r == 0:\n",
        "    print(\"Múltiplo de 3\")\n",
        "else:\n",
        "    print(\"Não Múltiplo de 3\")"
      ]
    },
    {
      "cell_type": "markdown",
      "source": [
        "Exercício 2"
      ],
      "metadata": {
        "id": "gHmrJ9knQJ7c"
      }
    },
    {
      "cell_type": "code",
      "source": [
        "na = float(input(\"Digite a nota A: \"))\n",
        "nb = float(input(\"Digite a nota B: \"))\n",
        "nota = (na + nb) / 2\n",
        "if nota >= 5:\n",
        "    print(\"Aprovado\")\n",
        "else:\n",
        "    print(\"Reprovado\")\n"
      ],
      "metadata": {
        "colab": {
          "base_uri": "https://localhost:8080/"
        },
        "id": "xU4-jdeXIPKj",
        "outputId": "35183a18-6b31-407a-e16d-d46fe7a3af2c"
      },
      "execution_count": 30,
      "outputs": [
        {
          "output_type": "stream",
          "name": "stdout",
          "text": [
            "Digite a nota A: 2.5\n",
            "Digite a nota B: 10.5\n",
            "Aprovado\n"
          ]
        }
      ]
    },
    {
      "cell_type": "markdown",
      "source": [
        "Exercício 3"
      ],
      "metadata": {
        "id": "a3vgw07YQeco"
      }
    },
    {
      "cell_type": "code",
      "source": [
        "a = int(input(\"Número A: \"))\n",
        "b = int(input(\"Número B: \"))\n",
        "c = int(input(\"Número C: \"))\n",
        "if a <= b and a <= c:\n",
        "    print(\"A é o menor valor\")\n",
        "elif b <= a and b <= c:\n",
        "    print(\"B é o menor valor\")\n",
        "else:\n",
        "    print(\"C é o menor valor\")\n",
        "#"
      ],
      "metadata": {
        "colab": {
          "base_uri": "https://localhost:8080/"
        },
        "id": "3aURRHfuLCDi",
        "outputId": "9ea08dd7-c62a-4051-d832-d43807955c40"
      },
      "execution_count": 33,
      "outputs": [
        {
          "output_type": "stream",
          "name": "stdout",
          "text": [
            "Número A: 5468465321\n",
            "Número B: 6498746546\n",
            "Número C: 8643518674\n",
            "A é o menor valor\n"
          ]
        }
      ]
    }
  ]
}