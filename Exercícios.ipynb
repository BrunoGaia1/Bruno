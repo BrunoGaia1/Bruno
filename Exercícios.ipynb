{
  "nbformat": 4,
  "nbformat_minor": 0,
  "metadata": {
    "colab": {
      "provenance": [],
      "authorship_tag": "ABX9TyPJS+vyaF1SV2/aakOrR7uB",
      "include_colab_link": true
    },
    "kernelspec": {
      "name": "python3",
      "display_name": "Python 3"
    },
    "language_info": {
      "name": "python"
    }
  },
  "cells": [
    {
      "cell_type": "markdown",
      "metadata": {
        "id": "view-in-github",
        "colab_type": "text"
      },
      "source": [
        "<a href=\"https://colab.research.google.com/github/BrunoGaia1/Bruno/blob/main/Exerc%C3%ADcios.ipynb\" target=\"_parent\"><img src=\"https://colab.research.google.com/assets/colab-badge.svg\" alt=\"Open In Colab\"/></a>"
      ]
    },
    {
      "cell_type": "markdown",
      "source": [
        "Exercício 1"
      ],
      "metadata": {
        "id": "s78QyD6pQEcc"
      }
    },
    {
      "cell_type": "code",
      "execution_count": null,
      "metadata": {
        "colab": {
          "base_uri": "https://localhost:8080/"
        },
        "id": "lFYQCEEkEhC4",
        "outputId": "4df0f803-f6b6-49ac-f77f-322d904317c9"
      },
      "outputs": [
        {
          "output_type": "stream",
          "name": "stdout",
          "text": [
            "Digite um número: 30\n",
            "Múltiplo de 3\n"
          ]
        }
      ],
      "source": [
        "numero = int(input(\"Digite um número: \"))\n",
        "r = numero % 3\n",
        "if r == 0:\n",
        "    print(\"Múltiplo de 3\")\n",
        "else:\n",
        "    print(\"Não Múltiplo de 3\")"
      ]
    },
    {
      "cell_type": "markdown",
      "source": [
        "Exercício 2"
      ],
      "metadata": {
        "id": "gHmrJ9knQJ7c"
      }
    },
    {
      "cell_type": "code",
      "source": [
        "na = float(input(\"Digite a nota A: \"))\n",
        "nb = float(input(\"Digite a nota B: \"))\n",
        "nota = (2*na + 3*nb) /5\n",
        "if nota >= 5:\n",
        "    print(\"Aprovado\")\n",
        "else:\n",
        "    print(\"Reprovado\")\n"
      ],
      "metadata": {
        "colab": {
          "base_uri": "https://localhost:8080/"
        },
        "id": "xU4-jdeXIPKj",
        "outputId": "ff0f4ade-5db5-4458-8a33-8a5dc6d99f1b"
      },
      "execution_count": null,
      "outputs": [
        {
          "output_type": "stream",
          "name": "stdout",
          "text": [
            "Digite a nota A: 10\n",
            "Digite a nota B: 10\n",
            "Aprovado\n"
          ]
        }
      ]
    },
    {
      "cell_type": "markdown",
      "source": [
        "Exercício 3"
      ],
      "metadata": {
        "id": "a3vgw07YQeco"
      }
    },
    {
      "cell_type": "code",
      "source": [
        "a = int(input(\"Número A: \"))\n",
        "b = int(input(\"Número B: \"))\n",
        "c = int(input(\"Número C: \"))\n",
        "if a <= b and a <= c:\n",
        "    print(\"A é o menor valor\")\n",
        "elif b <= a and b <= c:\n",
        "    print(\"B é o menor valor\")\n",
        "else:\n",
        "    print(\"C é o menor valor\")\n",
        "#"
      ],
      "metadata": {
        "colab": {
          "base_uri": "https://localhost:8080/"
        },
        "id": "3aURRHfuLCDi",
        "outputId": "9ea08dd7-c62a-4051-d832-d43807955c40"
      },
      "execution_count": null,
      "outputs": [
        {
          "output_type": "stream",
          "name": "stdout",
          "text": [
            "Número A: 5468465321\n",
            "Número B: 6498746546\n",
            "Número C: 8643518674\n",
            "A é o menor valor\n"
          ]
        }
      ]
    },
    {
      "cell_type": "code",
      "source": [
        "# prompt: 10 random numbers using numpy\n",
        "\n",
        "import numpy as np\n",
        "\n",
        "random_numbers = np.random.rand(100)\n",
        "print(random_numbers)"
      ],
      "metadata": {
        "colab": {
          "base_uri": "https://localhost:8080/"
        },
        "id": "UhW5ppgPI-NO",
        "outputId": "9cce2ef4-728b-4b06-c427-b463f4299db5"
      },
      "execution_count": 47,
      "outputs": [
        {
          "output_type": "stream",
          "name": "stdout",
          "text": [
            "[0.34565243 0.52603084 0.12277839 0.62552744 0.37219292 0.67781031\n",
            " 0.2267967  0.50316381 0.43142797 0.76666114 0.8279497  0.80487508\n",
            " 0.56185475 0.27711249 0.84435056 0.07586488 0.54329894 0.68454353\n",
            " 0.53439157 0.43876543 0.15343198 0.66106266 0.97903908 0.33559934\n",
            " 0.89312595 0.84942849 0.37982134 0.6453166  0.60728447 0.86732871\n",
            " 0.43014826 0.86166231 0.31951569 0.40872528 0.79123501 0.48432303\n",
            " 0.62445499 0.17763536 0.51789893 0.75554662 0.18388774 0.0460877\n",
            " 0.99661418 0.38270116 0.8451271  0.61802816 0.26197725 0.15455358\n",
            " 0.96117593 0.42128161 0.99100343 0.43406652 0.04464684 0.45448312\n",
            " 0.44736088 0.39585545 0.54511553 0.80182379 0.94161132 0.02353591\n",
            " 0.37593762 0.18514457 0.3148414  0.56795517 0.78437955 0.45621325\n",
            " 0.58205968 0.06787376 0.37354596 0.08131088 0.41934009 0.79372503\n",
            " 0.00811475 0.27680452 0.1908444  0.73305204 0.43062085 0.13679045\n",
            " 0.04978793 0.15055363 0.51303277 0.18924341 0.26977683 0.97754484\n",
            " 0.72829319 0.2161218  0.49252464 0.03539699 0.05867422 0.17719502\n",
            " 0.26786491 0.78654232 0.78877937 0.43007393 0.21903194 0.67229812\n",
            " 0.24663595 0.06600199 0.4545038  0.6407845 ]\n"
          ]
        }
      ]
    },
    {
      "cell_type": "code",
      "source": [
        "for i in range(10,100,10):\n",
        "    print(i)"
      ],
      "metadata": {
        "colab": {
          "base_uri": "https://localhost:8080/"
        },
        "id": "emRYK5utKFlU",
        "outputId": "d37230ee-5f6d-4674-f3cc-5fee17c8d3ca"
      },
      "execution_count": 12,
      "outputs": [
        {
          "output_type": "stream",
          "name": "stdout",
          "text": [
            "10\n",
            "20\n",
            "30\n",
            "40\n",
            "50\n",
            "60\n",
            "70\n",
            "80\n",
            "90\n"
          ]
        }
      ]
    },
    {
      "cell_type": "code",
      "source": [
        "for i in range(10):\n",
        "    print(random_numbers[i])"
      ],
      "metadata": {
        "colab": {
          "base_uri": "https://localhost:8080/"
        },
        "id": "uapFSsLcKR6e",
        "outputId": "3c07be34-b1d5-475e-f6f6-de30e31830ed"
      },
      "execution_count": 14,
      "outputs": [
        {
          "output_type": "stream",
          "name": "stdout",
          "text": [
            "0.6581966696975419\n",
            "0.18707601443789468\n",
            "0.23990446071142368\n",
            "0.6874562619539305\n",
            "0.11332200146115834\n",
            "0.3396624453901571\n",
            "0.037425428886844636\n",
            "0.945517300089675\n",
            "0.03513543105010908\n",
            "0.03955081816612782\n"
          ]
        }
      ]
    },
    {
      "cell_type": "code",
      "source": [
        "i = 0\n",
        "while i < 10:\n",
        "    print(i)\n",
        "    i = i + 1"
      ],
      "metadata": {
        "colab": {
          "base_uri": "https://localhost:8080/"
        },
        "collapsed": true,
        "id": "hos5v9zZLj7-",
        "outputId": "5f76bcba-27ce-42b4-a811-f60cd8bfb691"
      },
      "execution_count": 24,
      "outputs": [
        {
          "output_type": "stream",
          "name": "stdout",
          "text": [
            "0\n",
            "1\n",
            "2\n",
            "3\n",
            "4\n",
            "5\n",
            "6\n",
            "7\n",
            "8\n",
            "9\n"
          ]
        }
      ]
    },
    {
      "cell_type": "code",
      "source": [
        "# prompt: a slider using jupyter\n",
        "\n",
        "#@title Slider Example\n",
        "Wing = 86 #@param {type:\"slider\", min:0, max:1000, step:1}\n",
        "\n",
        "print(f\"The slider value is: {Wing}\")\n"
      ],
      "metadata": {
        "colab": {
          "base_uri": "https://localhost:8080/"
        },
        "id": "jS0_tUZgNiMu",
        "outputId": "fa74d806-0608-4b5b-ae32-1a6fcfc9ce4d"
      },
      "execution_count": 46,
      "outputs": [
        {
          "output_type": "stream",
          "name": "stdout",
          "text": [
            "The slider value is: 86\n"
          ]
        }
      ]
    },
    {
      "cell_type": "code",
      "source": [
        "while True:\n",
        "  resposta = input(\"Deseja realizar a soma de 2 variaveis (s/n): \").strip().upper()\n",
        "\n",
        "  if resposta == 's':\n",
        "      var1 = float(input(\"Digite o valorda primeira variável: \"))\n",
        "      var2 = float(input(\"Digite o valor da segunda variável: \"))\n",
        "\n",
        "      soma = var1 + var2\n",
        "\n",
        "      print(\"A soma de {var1} e {var2} é: {soma}\")\n",
        "\n",
        "  elif resposta == 'n':\n",
        "      print(\"Operação finalizada. \")\n",
        "      break\n",
        "\n",
        "  else:\n",
        "      print(\"Resposta inválida! Por favor, digite 's' para Sim ou 'n' para Não.\")"
      ],
      "metadata": {
        "colab": {
          "base_uri": "https://localhost:8080/",
          "height": 356
        },
        "id": "Md20fNJtRVPE",
        "outputId": "c9555102-0f79-4ae0-b329-150b4e78b258"
      },
      "execution_count": 67,
      "outputs": [
        {
          "output_type": "error",
          "ename": "KeyboardInterrupt",
          "evalue": "Interrupted by user",
          "traceback": [
            "\u001b[0;31m---------------------------------------------------------------------------\u001b[0m",
            "\u001b[0;31mKeyboardInterrupt\u001b[0m                         Traceback (most recent call last)",
            "\u001b[0;32m<ipython-input-67-818710b93dc8>\u001b[0m in \u001b[0;36m<cell line: 1>\u001b[0;34m()\u001b[0m\n\u001b[1;32m      1\u001b[0m \u001b[0;32mwhile\u001b[0m \u001b[0;32mTrue\u001b[0m\u001b[0;34m:\u001b[0m\u001b[0;34m\u001b[0m\u001b[0;34m\u001b[0m\u001b[0m\n\u001b[0;32m----> 2\u001b[0;31m   \u001b[0mresposta\u001b[0m \u001b[0;34m=\u001b[0m \u001b[0minput\u001b[0m\u001b[0;34m(\u001b[0m\u001b[0;34m\"Deseja realizar a soma de 2 variaveis (s/n): \"\u001b[0m\u001b[0;34m)\u001b[0m\u001b[0;34m.\u001b[0m\u001b[0mstrip\u001b[0m\u001b[0;34m(\u001b[0m\u001b[0;34m)\u001b[0m\u001b[0;34m.\u001b[0m\u001b[0mupper\u001b[0m\u001b[0;34m(\u001b[0m\u001b[0;34m)\u001b[0m\u001b[0;34m\u001b[0m\u001b[0;34m\u001b[0m\u001b[0m\n\u001b[0m\u001b[1;32m      3\u001b[0m \u001b[0;34m\u001b[0m\u001b[0m\n\u001b[1;32m      4\u001b[0m   \u001b[0;32mif\u001b[0m \u001b[0mresposta\u001b[0m \u001b[0;34m==\u001b[0m \u001b[0;34m's'\u001b[0m\u001b[0;34m:\u001b[0m\u001b[0;34m\u001b[0m\u001b[0;34m\u001b[0m\u001b[0m\n\u001b[1;32m      5\u001b[0m       \u001b[0mvar1\u001b[0m \u001b[0;34m=\u001b[0m \u001b[0mfloat\u001b[0m\u001b[0;34m(\u001b[0m\u001b[0minput\u001b[0m\u001b[0;34m(\u001b[0m\u001b[0;34m\"Digite o valorda primeira variável: \"\u001b[0m\u001b[0;34m)\u001b[0m\u001b[0;34m)\u001b[0m\u001b[0;34m\u001b[0m\u001b[0;34m\u001b[0m\u001b[0m\n",
            "\u001b[0;32m/usr/local/lib/python3.10/dist-packages/ipykernel/kernelbase.py\u001b[0m in \u001b[0;36mraw_input\u001b[0;34m(self, prompt)\u001b[0m\n\u001b[1;32m    849\u001b[0m                 \u001b[0;34m\"raw_input was called, but this frontend does not support input requests.\"\u001b[0m\u001b[0;34m\u001b[0m\u001b[0;34m\u001b[0m\u001b[0m\n\u001b[1;32m    850\u001b[0m             )\n\u001b[0;32m--> 851\u001b[0;31m         return self._input_request(str(prompt),\n\u001b[0m\u001b[1;32m    852\u001b[0m             \u001b[0mself\u001b[0m\u001b[0;34m.\u001b[0m\u001b[0m_parent_ident\u001b[0m\u001b[0;34m,\u001b[0m\u001b[0;34m\u001b[0m\u001b[0;34m\u001b[0m\u001b[0m\n\u001b[1;32m    853\u001b[0m             \u001b[0mself\u001b[0m\u001b[0;34m.\u001b[0m\u001b[0m_parent_header\u001b[0m\u001b[0;34m,\u001b[0m\u001b[0;34m\u001b[0m\u001b[0;34m\u001b[0m\u001b[0m\n",
            "\u001b[0;32m/usr/local/lib/python3.10/dist-packages/ipykernel/kernelbase.py\u001b[0m in \u001b[0;36m_input_request\u001b[0;34m(self, prompt, ident, parent, password)\u001b[0m\n\u001b[1;32m    893\u001b[0m             \u001b[0;32mexcept\u001b[0m \u001b[0mKeyboardInterrupt\u001b[0m\u001b[0;34m:\u001b[0m\u001b[0;34m\u001b[0m\u001b[0;34m\u001b[0m\u001b[0m\n\u001b[1;32m    894\u001b[0m                 \u001b[0;31m# re-raise KeyboardInterrupt, to truncate traceback\u001b[0m\u001b[0;34m\u001b[0m\u001b[0;34m\u001b[0m\u001b[0m\n\u001b[0;32m--> 895\u001b[0;31m                 \u001b[0;32mraise\u001b[0m \u001b[0mKeyboardInterrupt\u001b[0m\u001b[0;34m(\u001b[0m\u001b[0;34m\"Interrupted by user\"\u001b[0m\u001b[0;34m)\u001b[0m \u001b[0;32mfrom\u001b[0m \u001b[0;32mNone\u001b[0m\u001b[0;34m\u001b[0m\u001b[0;34m\u001b[0m\u001b[0m\n\u001b[0m\u001b[1;32m    896\u001b[0m             \u001b[0;32mexcept\u001b[0m \u001b[0mException\u001b[0m \u001b[0;32mas\u001b[0m \u001b[0me\u001b[0m\u001b[0;34m:\u001b[0m\u001b[0;34m\u001b[0m\u001b[0;34m\u001b[0m\u001b[0m\n\u001b[1;32m    897\u001b[0m                 \u001b[0mself\u001b[0m\u001b[0;34m.\u001b[0m\u001b[0mlog\u001b[0m\u001b[0;34m.\u001b[0m\u001b[0mwarning\u001b[0m\u001b[0;34m(\u001b[0m\u001b[0;34m\"Invalid Message:\"\u001b[0m\u001b[0;34m,\u001b[0m \u001b[0mexc_info\u001b[0m\u001b[0;34m=\u001b[0m\u001b[0;32mTrue\u001b[0m\u001b[0;34m)\u001b[0m\u001b[0;34m\u001b[0m\u001b[0;34m\u001b[0m\u001b[0m\n",
            "\u001b[0;31mKeyboardInterrupt\u001b[0m: Interrupted by user"
          ]
        }
      ]
    }
  ]
}